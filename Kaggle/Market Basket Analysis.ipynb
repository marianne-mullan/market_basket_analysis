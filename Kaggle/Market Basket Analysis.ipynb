{
 "cells": [
  {
   "cell_type": "markdown",
   "id": "d4c5f117",
   "metadata": {},
   "source": [
    "### Comes from Kaggle notebook here: https://www.kaggle.com/umutboz/apriori/notebook"
   ]
  },
  {
   "cell_type": "code",
   "execution_count": null,
   "id": "4db6abee",
   "metadata": {},
   "outputs": [],
   "source": [
    "# This Python 3 environment comes with many helpful analytics libraries installed\n",
    "# It is defined by the kaggle/python Docker image: https://github.com/kaggle/docker-python\n",
    "# For example, here's several helpful packages to load\n",
    "\n",
    "import numpy as np # linear algebra\n",
    "import pandas as pd # data processing, CSV file I/O (e.g. pd.read_csv)\n",
    "\n",
    "# Input data files are available in the read-only \"../input/\" directory\n",
    "# For example, running this (by clicking run or pressing Shift+Enter) will list all files under the input directory\n",
    "\n",
    "import os\n",
    "for dirname, _, filenames in os.walk('/kaggle/input'):\n",
    "    for filename in filenames:\n",
    "        print(os.path.join(dirname, filename))\n",
    "\n",
    "# You can write up to 5GB to the current directory (/kaggle/working/) that gets preserved as output when you create a version using \"Save & Run All\" \n",
    "# You can also write temporary files to /kaggle/temp/, but they won't be saved outside of the current session"
   ]
  },
  {
   "cell_type": "code",
   "execution_count": null,
   "id": "43fd3cdb",
   "metadata": {},
   "outputs": [],
   "source": [
    "!pip install mlxtend"
   ]
  },
  {
   "cell_type": "code",
   "execution_count": null,
   "id": "6634ad4b",
   "metadata": {},
   "outputs": [],
   "source": [
    "df = pd.read_csv(\"../input/supermarket/GroceryStoreDataSet.csv\")\n",
    "df.head()"
   ]
  },
  {
   "cell_type": "code",
   "execution_count": null,
   "id": "477bd60a",
   "metadata": {},
   "outputs": [],
   "source": [
    "df.info()"
   ]
  },
  {
   "cell_type": "code",
   "execution_count": null,
   "id": "7097886f",
   "metadata": {},
   "outputs": [],
   "source": [
    "df.shape"
   ]
  },
  {
   "cell_type": "code",
   "execution_count": null,
   "id": "49de0ec2",
   "metadata": {},
   "outputs": [],
   "source": [
    "df.columns.size"
   ]
  },
  {
   "cell_type": "code",
   "execution_count": null,
   "id": "25716f41",
   "metadata": {},
   "outputs": [],
   "source": [
    "# unique column cıkartma operasyonu\n",
    "unique_row_items = []\n",
    "for index, row in df.iterrows():\n",
    "    items_series = list(row.str.split(','))\n",
    "    for item_serie in items_series:\n",
    "        for item in item_serie:\n",
    "            if item not in unique_row_items:\n",
    "                unique_row_items.append(item)\n",
    "    \n",
    "\n",
    "\n",
    "unique_row_items"
   ]
  },
  {
   "cell_type": "code",
   "execution_count": null,
   "id": "07fc0c5d",
   "metadata": {},
   "outputs": [],
   "source": [
    "df_apriori = pd.DataFrame(columns=unique_row_items)\n",
    "#df_apriori.at[0,'JAM'] = 1\n",
    "#df_apriori.at[1,'JAM'] = 1\n",
    "df_apriori"
   ]
  },
  {
   "cell_type": "code",
   "execution_count": null,
   "id": "1b97567c",
   "metadata": {},
   "outputs": [],
   "source": [
    "#eldeki data'ları eşleştirip onehotencoding'e dönüştür ve dataframe'e ekle\n",
    "for index, row in df.iterrows():\n",
    "    items = str(row[0]).split(',')\n",
    "    #print(items)\n",
    "    one_hot_encoding = np.zeros(len(unique_row_items),dtype=int)\n",
    "    for it in items:\n",
    "        for i,column in enumerate(df_apriori.columns):\n",
    "            #print(i,column,it)\n",
    "            if it == column:\n",
    "                one_hot_encoding[i] = 1\n",
    "    df_apriori.at[index] = one_hot_encoding\n",
    "    #print(one_hot_encoding)"
   ]
  },
  {
   "cell_type": "code",
   "execution_count": null,
   "id": "9213ac3f",
   "metadata": {},
   "outputs": [],
   "source": [
    "df_apriori"
   ]
  },
  {
   "cell_type": "code",
   "execution_count": null,
   "id": "2f8a3ff6",
   "metadata": {},
   "outputs": [],
   "source": [
    "df_apriori.info()"
   ]
  },
  {
   "cell_type": "code",
   "execution_count": null,
   "id": "140c3d22",
   "metadata": {},
   "outputs": [],
   "source": [
    "df_apriori=df_apriori.astype('int')"
   ]
  },
  {
   "cell_type": "code",
   "execution_count": null,
   "id": "1913afc4",
   "metadata": {},
   "outputs": [],
   "source": [
    "from mlxtend.frequent_patterns import apriori, association_rules\n"
   ]
  },
  {
   "cell_type": "code",
   "execution_count": null,
   "id": "b3d03478",
   "metadata": {},
   "outputs": [],
   "source": [
    "freq_items = apriori(df_apriori, min_support = 0.2, use_colnames = True, verbose = 1)"
   ]
  },
  {
   "cell_type": "code",
   "execution_count": null,
   "id": "0a89f48b",
   "metadata": {},
   "outputs": [],
   "source": [
    "freq_items"
   ]
  },
  {
   "cell_type": "code",
   "execution_count": null,
   "id": "815bfe13",
   "metadata": {},
   "outputs": [],
   "source": [
    "freq_items.head()"
   ]
  },
  {
   "cell_type": "code",
   "execution_count": null,
   "id": "8cd5509c",
   "metadata": {},
   "outputs": [],
   "source": [
    "df_association_rules = association_rules(freq_items, metric = \"confidence\", min_threshold = 0.2)\n",
    "df_association_rules"
   ]
  },
  {
   "cell_type": "code",
   "execution_count": null,
   "id": "dcda8762",
   "metadata": {},
   "outputs": [],
   "source": [
    "df_association_rules.sort_values(\"confidence\",ascending=False)\n"
   ]
  },
  {
   "cell_type": "code",
   "execution_count": null,
   "id": "a4d2bf12",
   "metadata": {},
   "outputs": [],
   "source": [
    "df_association_rules"
   ]
  },
  {
   "cell_type": "code",
   "execution_count": null,
   "id": "dd3583c2",
   "metadata": {},
   "outputs": [],
   "source": [
    "df_association_rules[\"antecedents\"].apply(lambda x: str(x))\n"
   ]
  },
  {
   "cell_type": "code",
   "execution_count": null,
   "id": "e1128d28",
   "metadata": {},
   "outputs": [],
   "source": [
    "cols = ['antecedents','consequents']\n",
    "df_association_rules[cols] = df_association_rules[cols].applymap(lambda x: tuple(x))\n",
    "print (df_association_rules)"
   ]
  },
  {
   "cell_type": "code",
   "execution_count": null,
   "id": "80ad70f7",
   "metadata": {},
   "outputs": [],
   "source": [
    "df_association_rules = (df_association_rules.explode('antecedents')\n",
    "         .reset_index(drop=True)\n",
    "         .explode('consequents')\n",
    "         .reset_index(drop=True))"
   ]
  },
  {
   "cell_type": "code",
   "execution_count": null,
   "id": "8e2c6ddc",
   "metadata": {},
   "outputs": [],
   "source": [
    "df_association_rules"
   ]
  },
  {
   "cell_type": "code",
   "execution_count": null,
   "id": "ee4e4f3a",
   "metadata": {},
   "outputs": [],
   "source": [
    "df_association_rules[\"product_group\"] = df_association_rules[\"antecedents\"].apply(lambda x: str(x)) + \",\" + df_association_rules[\"consequents\"].apply(lambda x: str(x))"
   ]
  },
  {
   "cell_type": "code",
   "execution_count": null,
   "id": "3ab8f5ff",
   "metadata": {},
   "outputs": [],
   "source": [
    "df_association_rules"
   ]
  },
  {
   "cell_type": "code",
   "execution_count": null,
   "id": "f7fb0aad",
   "metadata": {},
   "outputs": [],
   "source": [
    "df1 = df_association_rules.loc[:,[\"product_group\",\"confidence\",\"lift\"]].sort_values(\"confidence\",ascending=False)"
   ]
  },
  {
   "cell_type": "code",
   "execution_count": null,
   "id": "3f423661",
   "metadata": {},
   "outputs": [],
   "source": [
    "import seaborn as sns\n",
    "sns.set(font_scale=0.4) \n",
    "sns.set(rc={'figure.figsize':(21.7,5.27)})\n",
    "sns.barplot(x=\"product_group\",y=\"confidence\",data=df1);"
   ]
  },
  {
   "cell_type": "code",
   "execution_count": null,
   "id": "0fb3fbf3",
   "metadata": {},
   "outputs": [],
   "source": [
    "import seaborn as sns\n",
    "sns.set(font_scale=0.4) \n",
    "sns.set(rc={'figure.figsize':(21.7,5.27)})\n",
    "sns.barplot(x=\"product_group\",y=\"confidence\",hue=\"lift\",data=df1);"
   ]
  },
  {
   "cell_type": "code",
   "execution_count": null,
   "id": "a4626149",
   "metadata": {},
   "outputs": [],
   "source": [
    "import seaborn as sns\n",
    "sns.set(font_scale=0.4) \n",
    "sns.set(rc={'figure.figsize':(21.7,5.27)})\n",
    "sns.barplot(x=\"product_group\",y=\"confidence\",hue=\"lift\",data=df1);"
   ]
  },
  {
   "cell_type": "code",
   "execution_count": null,
   "id": "3611da01",
   "metadata": {},
   "outputs": [],
   "source": [
    "df1.plot.bar()"
   ]
  },
  {
   "cell_type": "code",
   "execution_count": null,
   "id": "01444463",
   "metadata": {},
   "outputs": [],
   "source": [
    "sns.barplot(x=\"Pclass\",y=\"survived_grouped_count\",hue=\"AgeGroup\",data=df[df.Survived == 1]);"
   ]
  },
  {
   "cell_type": "code",
   "execution_count": null,
   "id": "e2083dd4",
   "metadata": {},
   "outputs": [],
   "source": []
  },
  {
   "cell_type": "code",
   "execution_count": null,
   "id": "bccb3a6b",
   "metadata": {},
   "outputs": [],
   "source": []
  },
  {
   "cell_type": "code",
   "execution_count": null,
   "id": "64d272be",
   "metadata": {},
   "outputs": [],
   "source": []
  }
 ],
 "metadata": {
  "kernelspec": {
   "display_name": "Python 3",
   "language": "python",
   "name": "python3"
  },
  "language_info": {
   "codemirror_mode": {
    "name": "ipython",
    "version": 3
   },
   "file_extension": ".py",
   "mimetype": "text/x-python",
   "name": "python",
   "nbconvert_exporter": "python",
   "pygments_lexer": "ipython3",
   "version": "3.8.3"
  }
 },
 "nbformat": 4,
 "nbformat_minor": 5
}
